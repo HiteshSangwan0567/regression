{
 "cells": [
  {
   "cell_type": "code",
   "execution_count": 2,
   "metadata": {
    "scrolled": true
   },
   "outputs": [
    {
     "name": "stdout",
     "output_type": "stream",
     "text": [
      "      CRIM    ZN  INDUS  CHAS    NOX     RM   AGE     DIS  RAD    TAX  \\\n",
      "0  0.00632  18.0   2.31   0.0  0.538  6.575  65.2  4.0900  1.0  296.0   \n",
      "1  0.02731   0.0   7.07   0.0  0.469  6.421  78.9  4.9671  2.0  242.0   \n",
      "2  0.02729   0.0   7.07   0.0  0.469  7.185  61.1  4.9671  2.0  242.0   \n",
      "3  0.03237   0.0   2.18   0.0  0.458  6.998  45.8  6.0622  3.0  222.0   \n",
      "4  0.06905   0.0   2.18   0.0  0.458  7.147  54.2  6.0622  3.0  222.0   \n",
      "\n",
      "   PTRATIO       B  LSTAT  MEDV  \n",
      "0     15.3  396.90   4.98  24.0  \n",
      "1     17.8  396.90   9.14  21.6  \n",
      "2     17.8  392.83   4.03  34.7  \n",
      "3     18.7  394.63   2.94  33.4  \n",
      "4     18.7  396.90   5.33  36.2  \n",
      "\n",
      "Data Shape:  (506, 14)\n"
     ]
    }
   ],
   "source": [
    "from sklearn import datasets\n",
    "import pandas as pd\n",
    "housing=datasets.load_boston()\n",
    "x=housing.data\n",
    "y=housing.target\n",
    "X=pd.DataFrame(x,columns=['CRIM','ZN','INDUS','CHAS','NOX','RM',\n",
    "                          'AGE','DIS','RAD','TAX','PTRATIO','B','LSTAT'])\n",
    "Y=pd.DataFrame(y,columns=['MEDV'])\n",
    "data=pd.concat([X,Y],axis=1)\n",
    "print(data.head())\n",
    "print()\n",
    "print('Data Shape: ',data.shape)"
   ]
  },
  {
   "cell_type": "code",
   "execution_count": 3,
   "metadata": {
    "collapsed": true
   },
   "outputs": [],
   "source": [
    "x=data.iloc[:,:-1]\n",
    "y=data[['MEDV']].values\n",
    "from sklearn.model_selection import train_test_split\n",
    "(x_train,x_test,y_train,y_test)=train_test_split(x,y,test_size=0.3,\n",
    "                                                 random_state=0)\n"
   ]
  },
  {
   "cell_type": "markdown",
   "metadata": {},
   "source": [
    "# Ridge Regression\n",
    "cost(ridge)=cost(linear regression)+L2 regularization"
   ]
  },
  {
   "cell_type": "code",
   "execution_count": 4,
   "metadata": {
    "collapsed": true
   },
   "outputs": [],
   "source": [
    "from sklearn.linear_model import Ridge\n",
    "rid=Ridge(alpha=1.0)\n",
    "rid.fit(x_train,y_train)\n",
    "y_pred_ridge=rid.predict(x_test)\n"
   ]
  },
  {
   "cell_type": "markdown",
   "metadata": {},
   "source": [
    "# Lasso Regression\n",
    "cost(lasso)=cost(linear regression)+L1 regularization"
   ]
  },
  {
   "cell_type": "code",
   "execution_count": 5,
   "metadata": {
    "collapsed": true
   },
   "outputs": [],
   "source": [
    "from sklearn.linear_model import Lasso\n",
    "las=Lasso(alpha=1.0)\n",
    "las.fit(x_train,y_train)\n",
    "y_pred_lasso=las.predict(x_test)"
   ]
  },
  {
   "cell_type": "code",
   "execution_count": null,
   "metadata": {
    "collapsed": true
   },
   "outputs": [],
   "source": []
  },
  {
   "cell_type": "markdown",
   "metadata": {},
   "source": [
    "# ElesticNet Regression\n",
    "cost(elstic net)=cost(linear regression)+L1 regularization+L2 regularization"
   ]
  },
  {
   "cell_type": "code",
   "execution_count": 6,
   "metadata": {
    "collapsed": true
   },
   "outputs": [],
   "source": [
    "from sklearn.linear_model import ElasticNet\n",
    "en=ElasticNet(alpha=1.0,l1_ratio=0.5)\n",
    "en.fit(x_train,y_train)\n",
    "y_pred_en=en.predict(x_test)"
   ]
  },
  {
   "cell_type": "markdown",
   "metadata": {},
   "source": [
    "# Compare MSE and R2-Score"
   ]
  },
  {
   "cell_type": "code",
   "execution_count": 7,
   "metadata": {},
   "outputs": [
    {
     "name": "stdout",
     "output_type": "stream",
     "text": [
      "RIDGE : MSE=27.762, R2-Score=0.667\n",
      "LASSO : MSE=32.345, R2-Score=0.612\n",
      "ElasticNet : MSE=31.874, R2-Score=0.617\n"
     ]
    }
   ],
   "source": [
    "from sklearn.metrics import mean_squared_error,r2_score\n",
    "print('RIDGE : MSE=%.3f, R2-Score=%.3f'%\n",
    "      (mean_squared_error(y_test,y_pred_ridge),r2_score(y_test,y_pred_ridge)))\n",
    "print('LASSO : MSE=%.3f, R2-Score=%.3f'%\n",
    "      (mean_squared_error(y_test,y_pred_lasso),r2_score(y_test,y_pred_lasso)))\n",
    "print('ElasticNet : MSE=%.3f, R2-Score=%.3f'%\n",
    "      (mean_squared_error(y_test,y_pred_en),r2_score(y_test,y_pred_en)))"
   ]
  }
 ],
 "metadata": {
  "kernelspec": {
   "display_name": "Python 3",
   "language": "python",
   "name": "python3"
  },
  "language_info": {
   "codemirror_mode": {
    "name": "ipython",
    "version": 3
   },
   "file_extension": ".py",
   "mimetype": "text/x-python",
   "name": "python",
   "nbconvert_exporter": "python",
   "pygments_lexer": "ipython3",
   "version": "3.6.6"
  }
 },
 "nbformat": 4,
 "nbformat_minor": 2
}
